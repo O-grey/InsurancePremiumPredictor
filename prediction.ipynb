{
 "cells": [
  {
   "cell_type": "code",
   "execution_count": 71,
   "metadata": {},
   "outputs": [],
   "source": [
    "import tensorflow as tf\n",
    "from tensorflow.keras.models import load_model\n",
    "import pickle\n",
    "import pandas as pd\n",
    "import numpy as np"
   ]
  },
  {
   "cell_type": "code",
   "execution_count": 92,
   "metadata": {},
   "outputs": [],
   "source": [
    "## Loading all pickle files:\n",
    "\n",
    "model=load_model('model.h5')\n",
    "\n",
    "## Save the encoders and sscaler\n",
    "with open('le_feedback.pkl','rb') as file:\n",
    "    le_feedback=pickle.load(file)\n",
    "\n",
    "with open('le_smoke.pkl','rb') as file:\n",
    "    le_smoke=pickle.load(file)\n",
    "\n",
    "with open('ohe_education.pkl','rb') as file:\n",
    "    ohe_education=pickle.load(file)\n",
    "\n",
    "with open('ohe_occupation.pkl','rb') as file:\n",
    "    ohe_occupation=pickle.load(file)\n",
    "\n",
    "with open('ohe_location.pkl','rb') as file:\n",
    "    ohe_location=pickle.load(file)\n",
    "\n",
    "with open('ohe_property.pkl','rb') as file:\n",
    "    ohe_property=pickle.load(file)\n",
    "\n",
    "with open('ohe_policy.pkl','rb') as file:\n",
    "    ohe_policy=pickle.load(file)\n",
    "    \n",
    "with open('scaler.pkl','rb') as file:\n",
    "    scaler=pickle.load(file)\n",
    "\n",
    "with open('pca.pkl','rb') as file:\n",
    "    pca=pickle.load(file)\n",
    "\n",
    "with open(\"preprocessor.pkl\", \"rb\") as file:\n",
    "    preprocessor = pickle.load(file)\n",
    "\n"
   ]
  },
  {
   "cell_type": "code",
   "execution_count": 93,
   "metadata": {},
   "outputs": [],
   "source": [
    "##Example Input data:\n",
    "input_data={\n",
    "'Annual Income':30424,\n",
    "'Number of Dependents':3,\n",
    "'Education Level':\"PhD\",\n",
    "'Occupation':'Self-Employed',\n",
    "'Health Score':5.136225173,\n",
    "'Location':'Suburban',\n",
    "'Policy Type':'Comprehensive',\n",
    "'Previous Claims':1,\n",
    "'Vehicle Age':3,\n",
    "'Credit Score':770,\n",
    "'Insurance Duration':5,\n",
    "'Customer Feedback':'Poor',\n",
    "'Smoking Status':'Yes',\n",
    "'Property Type':'House'\n",
    "}"
   ]
  },
  {
   "cell_type": "markdown",
   "metadata": {},
   "source": [
    "## Input Data Preprocessing:"
   ]
  },
  {
   "cell_type": "code",
   "execution_count": 94,
   "metadata": {},
   "outputs": [
    {
     "name": "stderr",
     "output_type": "stream",
     "text": [
      "t:\\Insurance Premium\\venv\\Lib\\site-packages\\sklearn\\preprocessing\\_label.py:134: DataConversionWarning: A column-vector y was passed when a 1d array was expected. Please change the shape of y to (n_samples, ), for example using ravel().\n",
      "  y = column_or_1d(y, dtype=self.classes_.dtype, warn=True)\n",
      "t:\\Insurance Premium\\venv\\Lib\\site-packages\\sklearn\\preprocessing\\_label.py:134: DataConversionWarning: A column-vector y was passed when a 1d array was expected. Please change the shape of y to (n_samples, ), for example using ravel().\n",
      "  y = column_or_1d(y, dtype=self.classes_.dtype, warn=True)\n"
     ]
    },
    {
     "data": {
      "text/html": [
       "<div>\n",
       "<style scoped>\n",
       "    .dataframe tbody tr th:only-of-type {\n",
       "        vertical-align: middle;\n",
       "    }\n",
       "\n",
       "    .dataframe tbody tr th {\n",
       "        vertical-align: top;\n",
       "    }\n",
       "\n",
       "    .dataframe thead th {\n",
       "        text-align: right;\n",
       "    }\n",
       "</style>\n",
       "<table border=\"1\" class=\"dataframe\">\n",
       "  <thead>\n",
       "    <tr style=\"text-align: right;\">\n",
       "      <th></th>\n",
       "      <th>Smoking Status</th>\n",
       "      <th>Customer Feedback</th>\n",
       "    </tr>\n",
       "  </thead>\n",
       "  <tbody>\n",
       "    <tr>\n",
       "      <th>0</th>\n",
       "      <td>1</td>\n",
       "      <td>2</td>\n",
       "    </tr>\n",
       "  </tbody>\n",
       "</table>\n",
       "</div>"
      ],
      "text/plain": [
       "   Smoking Status  Customer Feedback\n",
       "0               1                  2"
      ]
     },
     "execution_count": 94,
     "metadata": {},
     "output_type": "execute_result"
    }
   ],
   "source": [
    "## Label Encoding:\n",
    "feedback_encoded=le_feedback.transform([[input_data['Customer Feedback']]])\n",
    "smoke_encoded=le_smoke.transform([[input_data['Smoking Status']]])\n",
    "df_feedback=pd.DataFrame(feedback_encoded,columns=['Customer Feedback'])\n",
    "df_smoke=pd.DataFrame(smoke_encoded,columns=['Smoking Status'])\n",
    "df_label_encoded=pd.concat([df_smoke.reset_index(drop=True),df_feedback.reset_index(drop=True),],axis=1)\n",
    "df_label_encoded"
   ]
  },
  {
   "cell_type": "code",
   "execution_count": 95,
   "metadata": {},
   "outputs": [
    {
     "name": "stderr",
     "output_type": "stream",
     "text": [
      "t:\\Insurance Premium\\venv\\Lib\\site-packages\\sklearn\\base.py:439: UserWarning: X does not have valid feature names, but OneHotEncoder was fitted with feature names\n",
      "  warnings.warn(\n",
      "t:\\Insurance Premium\\venv\\Lib\\site-packages\\sklearn\\base.py:439: UserWarning: X does not have valid feature names, but OneHotEncoder was fitted with feature names\n",
      "  warnings.warn(\n",
      "t:\\Insurance Premium\\venv\\Lib\\site-packages\\sklearn\\base.py:439: UserWarning: X does not have valid feature names, but OneHotEncoder was fitted with feature names\n",
      "  warnings.warn(\n",
      "t:\\Insurance Premium\\venv\\Lib\\site-packages\\sklearn\\base.py:439: UserWarning: X does not have valid feature names, but OneHotEncoder was fitted with feature names\n",
      "  warnings.warn(\n",
      "t:\\Insurance Premium\\venv\\Lib\\site-packages\\sklearn\\base.py:439: UserWarning: X does not have valid feature names, but OneHotEncoder was fitted with feature names\n",
      "  warnings.warn(\n"
     ]
    },
    {
     "data": {
      "text/html": [
       "<div>\n",
       "<style scoped>\n",
       "    .dataframe tbody tr th:only-of-type {\n",
       "        vertical-align: middle;\n",
       "    }\n",
       "\n",
       "    .dataframe tbody tr th {\n",
       "        vertical-align: top;\n",
       "    }\n",
       "\n",
       "    .dataframe thead th {\n",
       "        text-align: right;\n",
       "    }\n",
       "</style>\n",
       "<table border=\"1\" class=\"dataframe\">\n",
       "  <thead>\n",
       "    <tr style=\"text-align: right;\">\n",
       "      <th></th>\n",
       "      <th>Education Level_Bachelor's</th>\n",
       "      <th>Education Level_High School</th>\n",
       "      <th>Education Level_Master's</th>\n",
       "      <th>Education Level_PhD</th>\n",
       "      <th>Occupation_Employed</th>\n",
       "      <th>Occupation_Self-Employed</th>\n",
       "      <th>Occupation_Unemployed</th>\n",
       "      <th>Location_Rural</th>\n",
       "      <th>Location_Suburban</th>\n",
       "      <th>Location_Urban</th>\n",
       "      <th>Policy Type_Basic</th>\n",
       "      <th>Policy Type_Comprehensive</th>\n",
       "      <th>Policy Type_Premium</th>\n",
       "      <th>Property Type_Apartment</th>\n",
       "      <th>Property Type_Condo</th>\n",
       "      <th>Property Type_House</th>\n",
       "    </tr>\n",
       "  </thead>\n",
       "  <tbody>\n",
       "    <tr>\n",
       "      <th>0</th>\n",
       "      <td>0.0</td>\n",
       "      <td>0.0</td>\n",
       "      <td>0.0</td>\n",
       "      <td>1.0</td>\n",
       "      <td>0.0</td>\n",
       "      <td>1.0</td>\n",
       "      <td>0.0</td>\n",
       "      <td>0.0</td>\n",
       "      <td>1.0</td>\n",
       "      <td>0.0</td>\n",
       "      <td>0.0</td>\n",
       "      <td>1.0</td>\n",
       "      <td>0.0</td>\n",
       "      <td>0.0</td>\n",
       "      <td>1.0</td>\n",
       "      <td>0.0</td>\n",
       "    </tr>\n",
       "  </tbody>\n",
       "</table>\n",
       "</div>"
      ],
      "text/plain": [
       "   Education Level_Bachelor's  Education Level_High School  \\\n",
       "0                         0.0                          0.0   \n",
       "\n",
       "   Education Level_Master's  Education Level_PhD  Occupation_Employed  \\\n",
       "0                       0.0                  1.0                  0.0   \n",
       "\n",
       "   Occupation_Self-Employed  Occupation_Unemployed  Location_Rural  \\\n",
       "0                       1.0                    0.0             0.0   \n",
       "\n",
       "   Location_Suburban  Location_Urban  Policy Type_Basic  \\\n",
       "0                1.0             0.0                0.0   \n",
       "\n",
       "   Policy Type_Comprehensive  Policy Type_Premium  Property Type_Apartment  \\\n",
       "0                        1.0                  0.0                      0.0   \n",
       "\n",
       "   Property Type_Condo  Property Type_House  \n",
       "0                  1.0                  0.0  "
      ]
     },
     "execution_count": 95,
     "metadata": {},
     "output_type": "execute_result"
    }
   ],
   "source": [
    "##One hot encoding:\n",
    "education_encoded=ohe_education.transform([[input_data['Education Level']]]).toarray()\n",
    "occupation_encoded=ohe_occupation.transform([[input_data['Occupation']]]).toarray()\n",
    "location_encoded=ohe_location.transform([[input_data['Location']]]).toarray()\n",
    "property_encoded=ohe_property.transform([[input_data['Property Type']]]).toarray()\n",
    "policy_encoded=ohe_policy.transform([[input_data['Policy Type']]]).toarray()\n",
    "\n",
    "df_education=pd.DataFrame(education_encoded,columns=ohe_education.get_feature_names_out(['Education Level']))\n",
    "df_occupation=pd.DataFrame(occupation_encoded,columns=ohe_occupation.get_feature_names_out(['Occupation']))\n",
    "df_location=pd.DataFrame(location_encoded,columns=ohe_location.get_feature_names_out(['Location']))\n",
    "df_property=pd.DataFrame(policy_encoded,columns=ohe_property.get_feature_names_out(['Property Type']))\n",
    "df_policy=pd.DataFrame(policy_encoded,columns=ohe_policy.get_feature_names_out(['Policy Type']))\n",
    "\n",
    "df_ohe_encoded=pd.concat([df_education.reset_index(drop=True),df_occupation.reset_index(drop=True),\n",
    "df_location.reset_index(drop=True),df_policy.reset_index(drop=True),df_property.reset_index(drop=True)],axis=1)\n",
    "\n",
    "df_ohe_encoded"
   ]
  },
  {
   "cell_type": "code",
   "execution_count": 96,
   "metadata": {},
   "outputs": [
    {
     "data": {
      "text/html": [
       "<div>\n",
       "<style scoped>\n",
       "    .dataframe tbody tr th:only-of-type {\n",
       "        vertical-align: middle;\n",
       "    }\n",
       "\n",
       "    .dataframe tbody tr th {\n",
       "        vertical-align: top;\n",
       "    }\n",
       "\n",
       "    .dataframe thead th {\n",
       "        text-align: right;\n",
       "    }\n",
       "</style>\n",
       "<table border=\"1\" class=\"dataframe\">\n",
       "  <thead>\n",
       "    <tr style=\"text-align: right;\">\n",
       "      <th></th>\n",
       "      <th>Annual Income</th>\n",
       "      <th>Number of Dependents</th>\n",
       "      <th>Education Level</th>\n",
       "      <th>Occupation</th>\n",
       "      <th>Health Score</th>\n",
       "      <th>Location</th>\n",
       "      <th>Policy Type</th>\n",
       "      <th>Previous Claims</th>\n",
       "      <th>Vehicle Age</th>\n",
       "      <th>Credit Score</th>\n",
       "      <th>Insurance Duration</th>\n",
       "      <th>Customer Feedback</th>\n",
       "      <th>Smoking Status</th>\n",
       "      <th>Property Type</th>\n",
       "    </tr>\n",
       "  </thead>\n",
       "  <tbody>\n",
       "    <tr>\n",
       "      <th>0</th>\n",
       "      <td>30424</td>\n",
       "      <td>3</td>\n",
       "      <td>PhD</td>\n",
       "      <td>Self-Employed</td>\n",
       "      <td>5.136225</td>\n",
       "      <td>Suburban</td>\n",
       "      <td>Comprehensive</td>\n",
       "      <td>1</td>\n",
       "      <td>3</td>\n",
       "      <td>770</td>\n",
       "      <td>5</td>\n",
       "      <td>Poor</td>\n",
       "      <td>Yes</td>\n",
       "      <td>House</td>\n",
       "    </tr>\n",
       "  </tbody>\n",
       "</table>\n",
       "</div>"
      ],
      "text/plain": [
       "   Annual Income  Number of Dependents Education Level     Occupation  \\\n",
       "0          30424                     3             PhD  Self-Employed   \n",
       "\n",
       "   Health Score  Location    Policy Type  Previous Claims  Vehicle Age  \\\n",
       "0      5.136225  Suburban  Comprehensive                1            3   \n",
       "\n",
       "   Credit Score  Insurance Duration Customer Feedback Smoking Status  \\\n",
       "0           770                   5              Poor            Yes   \n",
       "\n",
       "  Property Type  \n",
       "0         House  "
      ]
     },
     "execution_count": 96,
     "metadata": {},
     "output_type": "execute_result"
    }
   ],
   "source": [
    "input_df=pd.DataFrame([input_data])\n",
    "input_df"
   ]
  },
  {
   "cell_type": "code",
   "execution_count": 97,
   "metadata": {},
   "outputs": [
    {
     "name": "stdout",
     "output_type": "stream",
     "text": [
      "<class 'pandas.core.frame.DataFrame'>\n",
      "RangeIndex: 1 entries, 0 to 0\n",
      "Data columns (total 14 columns):\n",
      " #   Column                Non-Null Count  Dtype  \n",
      "---  ------                --------------  -----  \n",
      " 0   Annual Income         1 non-null      int64  \n",
      " 1   Number of Dependents  1 non-null      int64  \n",
      " 2   Education Level       1 non-null      object \n",
      " 3   Occupation            1 non-null      object \n",
      " 4   Health Score          1 non-null      float64\n",
      " 5   Location              1 non-null      object \n",
      " 6   Policy Type           1 non-null      object \n",
      " 7   Previous Claims       1 non-null      int64  \n",
      " 8   Vehicle Age           1 non-null      int64  \n",
      " 9   Credit Score          1 non-null      int64  \n",
      " 10  Insurance Duration    1 non-null      int64  \n",
      " 11  Customer Feedback     1 non-null      object \n",
      " 12  Smoking Status        1 non-null      object \n",
      " 13  Property Type         1 non-null      object \n",
      "dtypes: float64(1), int64(6), object(7)\n",
      "memory usage: 240.0+ bytes\n"
     ]
    }
   ],
   "source": [
    "input_df.info()"
   ]
  },
  {
   "cell_type": "code",
   "execution_count": 98,
   "metadata": {},
   "outputs": [
    {
     "data": {
      "text/html": [
       "<div>\n",
       "<style scoped>\n",
       "    .dataframe tbody tr th:only-of-type {\n",
       "        vertical-align: middle;\n",
       "    }\n",
       "\n",
       "    .dataframe tbody tr th {\n",
       "        vertical-align: top;\n",
       "    }\n",
       "\n",
       "    .dataframe thead th {\n",
       "        text-align: right;\n",
       "    }\n",
       "</style>\n",
       "<table border=\"1\" class=\"dataframe\">\n",
       "  <thead>\n",
       "    <tr style=\"text-align: right;\">\n",
       "      <th></th>\n",
       "      <th>Annual Income</th>\n",
       "      <th>Number of Dependents</th>\n",
       "      <th>Health Score</th>\n",
       "      <th>Previous Claims</th>\n",
       "      <th>Vehicle Age</th>\n",
       "      <th>Credit Score</th>\n",
       "      <th>Insurance Duration</th>\n",
       "    </tr>\n",
       "  </thead>\n",
       "  <tbody>\n",
       "    <tr>\n",
       "      <th>0</th>\n",
       "      <td>30424</td>\n",
       "      <td>3</td>\n",
       "      <td>5.136225</td>\n",
       "      <td>1</td>\n",
       "      <td>3</td>\n",
       "      <td>770</td>\n",
       "      <td>5</td>\n",
       "    </tr>\n",
       "  </tbody>\n",
       "</table>\n",
       "</div>"
      ],
      "text/plain": [
       "   Annual Income  Number of Dependents  Health Score  Previous Claims  \\\n",
       "0          30424                     3      5.136225                1   \n",
       "\n",
       "   Vehicle Age  Credit Score  Insurance Duration  \n",
       "0            3           770                   5  "
      ]
     },
     "execution_count": 98,
     "metadata": {},
     "output_type": "execute_result"
    }
   ],
   "source": [
    "numerical_columns=input_df.select_dtypes(exclude='O')\n",
    "numerical_columns"
   ]
  },
  {
   "cell_type": "code",
   "execution_count": 99,
   "metadata": {},
   "outputs": [
    {
     "data": {
      "text/html": [
       "<div>\n",
       "<style scoped>\n",
       "    .dataframe tbody tr th:only-of-type {\n",
       "        vertical-align: middle;\n",
       "    }\n",
       "\n",
       "    .dataframe tbody tr th {\n",
       "        vertical-align: top;\n",
       "    }\n",
       "\n",
       "    .dataframe thead th {\n",
       "        text-align: right;\n",
       "    }\n",
       "</style>\n",
       "<table border=\"1\" class=\"dataframe\">\n",
       "  <thead>\n",
       "    <tr style=\"text-align: right;\">\n",
       "      <th></th>\n",
       "      <th>Annual Income</th>\n",
       "      <th>Number of Dependents</th>\n",
       "      <th>Health Score</th>\n",
       "      <th>Previous Claims</th>\n",
       "      <th>Vehicle Age</th>\n",
       "      <th>Credit Score</th>\n",
       "      <th>Insurance Duration</th>\n",
       "    </tr>\n",
       "  </thead>\n",
       "  <tbody>\n",
       "    <tr>\n",
       "      <th>0</th>\n",
       "      <td>-0.087024</td>\n",
       "      <td>0.691123</td>\n",
       "      <td>-1.680876</td>\n",
       "      <td>0.000328</td>\n",
       "      <td>-1.139536</td>\n",
       "      <td>1.176991</td>\n",
       "      <td>0.000899</td>\n",
       "    </tr>\n",
       "  </tbody>\n",
       "</table>\n",
       "</div>"
      ],
      "text/plain": [
       "   Annual Income  Number of Dependents  Health Score  Previous Claims  \\\n",
       "0      -0.087024              0.691123     -1.680876         0.000328   \n",
       "\n",
       "   Vehicle Age  Credit Score  Insurance Duration  \n",
       "0    -1.139536      1.176991            0.000899  "
      ]
     },
     "execution_count": 99,
     "metadata": {},
     "output_type": "execute_result"
    }
   ],
   "source": [
    "## Scaling of all numerical columns:\n",
    "df_scaled=preprocessor.transform(numerical_columns)\n",
    "input_df_scaled=pd.DataFrame(df_scaled,columns=numerical_columns.columns)\n",
    "input_df_scaled"
   ]
  },
  {
   "cell_type": "code",
   "execution_count": 100,
   "metadata": {},
   "outputs": [
    {
     "data": {
      "text/html": [
       "<div>\n",
       "<style scoped>\n",
       "    .dataframe tbody tr th:only-of-type {\n",
       "        vertical-align: middle;\n",
       "    }\n",
       "\n",
       "    .dataframe tbody tr th {\n",
       "        vertical-align: top;\n",
       "    }\n",
       "\n",
       "    .dataframe thead th {\n",
       "        text-align: right;\n",
       "    }\n",
       "</style>\n",
       "<table border=\"1\" class=\"dataframe\">\n",
       "  <thead>\n",
       "    <tr style=\"text-align: right;\">\n",
       "      <th></th>\n",
       "      <th>pca_feature1</th>\n",
       "      <th>pca_feature2</th>\n",
       "      <th>pca_feature3</th>\n",
       "      <th>Education Level_Bachelor's</th>\n",
       "      <th>Education Level_High School</th>\n",
       "      <th>Education Level_Master's</th>\n",
       "      <th>Education Level_PhD</th>\n",
       "      <th>Occupation_Employed</th>\n",
       "      <th>Occupation_Self-Employed</th>\n",
       "      <th>Occupation_Unemployed</th>\n",
       "      <th>...</th>\n",
       "      <th>Location_Suburban</th>\n",
       "      <th>Location_Urban</th>\n",
       "      <th>Policy Type_Basic</th>\n",
       "      <th>Policy Type_Comprehensive</th>\n",
       "      <th>Policy Type_Premium</th>\n",
       "      <th>Property Type_Apartment</th>\n",
       "      <th>Property Type_Condo</th>\n",
       "      <th>Property Type_House</th>\n",
       "      <th>Smoking Status</th>\n",
       "      <th>Customer Feedback</th>\n",
       "    </tr>\n",
       "  </thead>\n",
       "  <tbody>\n",
       "    <tr>\n",
       "      <th>0</th>\n",
       "      <td>-1.013412</td>\n",
       "      <td>-0.866868</td>\n",
       "      <td>0.475098</td>\n",
       "      <td>0.0</td>\n",
       "      <td>0.0</td>\n",
       "      <td>0.0</td>\n",
       "      <td>1.0</td>\n",
       "      <td>0.0</td>\n",
       "      <td>1.0</td>\n",
       "      <td>0.0</td>\n",
       "      <td>...</td>\n",
       "      <td>1.0</td>\n",
       "      <td>0.0</td>\n",
       "      <td>0.0</td>\n",
       "      <td>1.0</td>\n",
       "      <td>0.0</td>\n",
       "      <td>0.0</td>\n",
       "      <td>1.0</td>\n",
       "      <td>0.0</td>\n",
       "      <td>1</td>\n",
       "      <td>2</td>\n",
       "    </tr>\n",
       "  </tbody>\n",
       "</table>\n",
       "<p>1 rows × 21 columns</p>\n",
       "</div>"
      ],
      "text/plain": [
       "   pca_feature1  pca_feature2  pca_feature3  Education Level_Bachelor's  \\\n",
       "0     -1.013412     -0.866868      0.475098                         0.0   \n",
       "\n",
       "   Education Level_High School  Education Level_Master's  Education Level_PhD  \\\n",
       "0                          0.0                       0.0                  1.0   \n",
       "\n",
       "   Occupation_Employed  Occupation_Self-Employed  Occupation_Unemployed  ...  \\\n",
       "0                  0.0                       1.0                    0.0  ...   \n",
       "\n",
       "   Location_Suburban  Location_Urban  Policy Type_Basic  \\\n",
       "0                1.0             0.0                0.0   \n",
       "\n",
       "   Policy Type_Comprehensive  Policy Type_Premium  Property Type_Apartment  \\\n",
       "0                        1.0                  0.0                      0.0   \n",
       "\n",
       "   Property Type_Condo  Property Type_House  Smoking Status  Customer Feedback  \n",
       "0                  1.0                  0.0               1                  2  \n",
       "\n",
       "[1 rows x 21 columns]"
      ]
     },
     "execution_count": 100,
     "metadata": {},
     "output_type": "execute_result"
    }
   ],
   "source": [
    "##PCA\n",
    "pca_scaled=pca.transform(input_df_scaled)\n",
    "data_pca=pd.DataFrame(pca_scaled,columns=['pca_feature1','pca_feature2','pca_feature3'])\n",
    "df_new_after_pca=pd.concat([data_pca.reset_index(drop=True),\n",
    "                            df_ohe_encoded.reset_index(drop=True),\n",
    "                            df_label_encoded.reset_index(drop=True)],axis=1)\n",
    "\n",
    "df_new_after_pca"
   ]
  },
  {
   "cell_type": "markdown",
   "metadata": {},
   "source": [
    "## Final Prediction"
   ]
  },
  {
   "cell_type": "code",
   "execution_count": 101,
   "metadata": {},
   "outputs": [],
   "source": [
    "# Convert DataFrame to NumPy array\n",
    "final_data_transformed = df_new_after_pca.values\n",
    "\n",
    "# Ensure it has the correct shape for prediction (1, number of features)\n",
    "final_data_transformed = final_data_transformed.reshape(1, -1)"
   ]
  },
  {
   "cell_type": "code",
   "execution_count": 103,
   "metadata": {},
   "outputs": [
    {
     "name": "stdout",
     "output_type": "stream",
     "text": [
      "1/1 [==============================] - 0s 50ms/step\n"
     ]
    },
    {
     "data": {
      "text/plain": [
       "array([[872.23584]], dtype=float32)"
      ]
     },
     "execution_count": 103,
     "metadata": {},
     "output_type": "execute_result"
    }
   ],
   "source": [
    "prediction=model.predict(final_data_transformed)\n",
    "prediction"
   ]
  },
  {
   "cell_type": "markdown",
   "metadata": {},
   "source": [
    "## Predicted Premium Amount: 872.2358"
   ]
  }
 ],
 "metadata": {
  "kernelspec": {
   "display_name": "Python 3",
   "language": "python",
   "name": "python3"
  },
  "language_info": {
   "name": "python",
   "version": "3.11.0"
  }
 },
 "nbformat": 4,
 "nbformat_minor": 2
}
